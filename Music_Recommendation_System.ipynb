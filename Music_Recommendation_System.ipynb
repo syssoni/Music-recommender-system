{
  "cells": [
    {
      "cell_type": "markdown",
      "metadata": {
        "id": "BCllUjR2TAvo"
      },
      "source": [
        "### **Music Recommendation System**\n",
        "\n"
      ]
    },
    {
      "cell_type": "markdown",
      "metadata": {
        "id": "sqOQt_6RQflz"
      },
      "source": [
        "**Importing library and files**"
      ]
    },
    {
      "cell_type": "code",
      "execution_count": 1,
      "metadata": {
        "id": "Jpq6C6OaORvC"
      },
      "outputs": [],
      "source": [
        "import pandas as pd\n",
        "import numpy as np\n",
        "\n",
        "df = pd.read_csv(\"music_dataset1.csv\")"
      ]
    },
    {
      "cell_type": "markdown",
      "metadata": {
        "id": "wCwSqG4FSD0g"
      },
      "source": [
        "**Description of DataSet**"
      ]
    },
    {
      "cell_type": "code",
      "execution_count": 2,
      "metadata": {
        "colab": {
          "base_uri": "https://localhost:8080/"
        },
        "id": "jmn1LisTQ36X",
        "outputId": "fbbe1abc-dd94-4e99-8829-7cebf9f7e531"
      },
      "outputs": [
        {
          "data": {
            "text/plain": [
              "Index(['SongID', 'Performer', 'Song', 'spotify_genre', 'spotify_track_id',\n",
              "       'spotify_track_preview_url', 'spotify_track_duration_ms',\n",
              "       'spotify_track_explicit', 'spotify_track_album', 'danceability',\n",
              "       'energy', 'key', 'loudness', 'mode', 'speechiness', 'acousticness',\n",
              "       'instrumentalness', 'liveness', 'valence', 'tempo', 'time_signature',\n",
              "       'spotify_track_popularity'],\n",
              "      dtype='object')"
            ]
          },
          "execution_count": 2,
          "metadata": {},
          "output_type": "execute_result"
        }
      ],
      "source": [
        "df.columns"
      ]
    },
    {
      "cell_type": "code",
      "execution_count": 3,
      "metadata": {
        "colab": {
          "base_uri": "https://localhost:8080/",
          "height": 664
        },
        "id": "QdJce5PhRjNb",
        "outputId": "308c3ff6-ed0d-4496-8d09-ff8d364ba055"
      },
      "outputs": [
        {
          "data": {
            "text/html": [
              "<div>\n",
              "<style scoped>\n",
              "    .dataframe tbody tr th:only-of-type {\n",
              "        vertical-align: middle;\n",
              "    }\n",
              "\n",
              "    .dataframe tbody tr th {\n",
              "        vertical-align: top;\n",
              "    }\n",
              "\n",
              "    .dataframe thead th {\n",
              "        text-align: right;\n",
              "    }\n",
              "</style>\n",
              "<table border=\"1\" class=\"dataframe\">\n",
              "  <thead>\n",
              "    <tr style=\"text-align: right;\">\n",
              "      <th></th>\n",
              "      <th>SongID</th>\n",
              "      <th>Performer</th>\n",
              "      <th>Song</th>\n",
              "      <th>spotify_genre</th>\n",
              "      <th>spotify_track_id</th>\n",
              "      <th>spotify_track_preview_url</th>\n",
              "      <th>spotify_track_duration_ms</th>\n",
              "      <th>spotify_track_explicit</th>\n",
              "      <th>spotify_track_album</th>\n",
              "      <th>danceability</th>\n",
              "      <th>...</th>\n",
              "      <th>loudness</th>\n",
              "      <th>mode</th>\n",
              "      <th>speechiness</th>\n",
              "      <th>acousticness</th>\n",
              "      <th>instrumentalness</th>\n",
              "      <th>liveness</th>\n",
              "      <th>valence</th>\n",
              "      <th>tempo</th>\n",
              "      <th>time_signature</th>\n",
              "      <th>spotify_track_popularity</th>\n",
              "    </tr>\n",
              "  </thead>\n",
              "  <tbody>\n",
              "    <tr>\n",
              "      <th>0</th>\n",
              "      <td>-twistin'-White Silver SandsBill Black's Combo</td>\n",
              "      <td>Bill Black's Combo</td>\n",
              "      <td>-twistin'-White Silver Sands</td>\n",
              "      <td>[]</td>\n",
              "      <td>NaN</td>\n",
              "      <td>NaN</td>\n",
              "      <td>NaN</td>\n",
              "      <td>NaN</td>\n",
              "      <td>NaN</td>\n",
              "      <td>NaN</td>\n",
              "      <td>...</td>\n",
              "      <td>NaN</td>\n",
              "      <td>NaN</td>\n",
              "      <td>NaN</td>\n",
              "      <td>NaN</td>\n",
              "      <td>NaN</td>\n",
              "      <td>NaN</td>\n",
              "      <td>NaN</td>\n",
              "      <td>NaN</td>\n",
              "      <td>NaN</td>\n",
              "      <td>NaN</td>\n",
              "    </tr>\n",
              "    <tr>\n",
              "      <th>1</th>\n",
              "      <td>¿Dònde Està Santa Claus? (Where Is Santa Claus...</td>\n",
              "      <td>Augie Rios</td>\n",
              "      <td>¿Dònde Està Santa Claus? (Where Is Santa Claus?)</td>\n",
              "      <td>['novelty']</td>\n",
              "      <td>NaN</td>\n",
              "      <td>NaN</td>\n",
              "      <td>NaN</td>\n",
              "      <td>NaN</td>\n",
              "      <td>NaN</td>\n",
              "      <td>NaN</td>\n",
              "      <td>...</td>\n",
              "      <td>NaN</td>\n",
              "      <td>NaN</td>\n",
              "      <td>NaN</td>\n",
              "      <td>NaN</td>\n",
              "      <td>NaN</td>\n",
              "      <td>NaN</td>\n",
              "      <td>NaN</td>\n",
              "      <td>NaN</td>\n",
              "      <td>NaN</td>\n",
              "      <td>NaN</td>\n",
              "    </tr>\n",
              "    <tr>\n",
              "      <th>2</th>\n",
              "      <td>......And Roses And RosesAndy Williams</td>\n",
              "      <td>Andy Williams</td>\n",
              "      <td>......And Roses And Roses</td>\n",
              "      <td>['adult standards', 'brill building pop', 'eas...</td>\n",
              "      <td>3tvqPPpXyIgKrm4PR9HCf0</td>\n",
              "      <td>https://p.scdn.co/mp3-preview/cef4883cfd1e0e53...</td>\n",
              "      <td>166106.0</td>\n",
              "      <td>False</td>\n",
              "      <td>The Essential Andy Williams</td>\n",
              "      <td>0.154</td>\n",
              "      <td>...</td>\n",
              "      <td>-14.063</td>\n",
              "      <td>1.0</td>\n",
              "      <td>0.0315</td>\n",
              "      <td>0.91100</td>\n",
              "      <td>0.000267</td>\n",
              "      <td>0.112</td>\n",
              "      <td>0.150</td>\n",
              "      <td>83.969</td>\n",
              "      <td>4.0</td>\n",
              "      <td>38.0</td>\n",
              "    </tr>\n",
              "    <tr>\n",
              "      <th>3</th>\n",
              "      <td>...And Then There Were DrumsSandy Nelson</td>\n",
              "      <td>Sandy Nelson</td>\n",
              "      <td>...And Then There Were Drums</td>\n",
              "      <td>['rock-and-roll', 'space age pop', 'surf music']</td>\n",
              "      <td>1fHHq3qHU8wpRKHzhojZ4a</td>\n",
              "      <td>NaN</td>\n",
              "      <td>172066.0</td>\n",
              "      <td>False</td>\n",
              "      <td>Compelling Percussion</td>\n",
              "      <td>0.588</td>\n",
              "      <td>...</td>\n",
              "      <td>-17.278</td>\n",
              "      <td>0.0</td>\n",
              "      <td>0.0361</td>\n",
              "      <td>0.00256</td>\n",
              "      <td>0.745000</td>\n",
              "      <td>0.145</td>\n",
              "      <td>0.801</td>\n",
              "      <td>121.962</td>\n",
              "      <td>4.0</td>\n",
              "      <td>11.0</td>\n",
              "    </tr>\n",
              "    <tr>\n",
              "      <th>4</th>\n",
              "      <td>...Baby One More TimeBritney Spears</td>\n",
              "      <td>Britney Spears</td>\n",
              "      <td>...Baby One More Time</td>\n",
              "      <td>['dance pop', 'pop', 'post-teen pop']</td>\n",
              "      <td>3MjUtNVVq3C8Fn0MP3zhXa</td>\n",
              "      <td>https://p.scdn.co/mp3-preview/da2134a161f1cb34...</td>\n",
              "      <td>211066.0</td>\n",
              "      <td>False</td>\n",
              "      <td>...Baby One More Time (Digital Deluxe Version)</td>\n",
              "      <td>0.759</td>\n",
              "      <td>...</td>\n",
              "      <td>-5.745</td>\n",
              "      <td>0.0</td>\n",
              "      <td>0.0307</td>\n",
              "      <td>0.20200</td>\n",
              "      <td>0.000131</td>\n",
              "      <td>0.443</td>\n",
              "      <td>0.907</td>\n",
              "      <td>92.960</td>\n",
              "      <td>4.0</td>\n",
              "      <td>77.0</td>\n",
              "    </tr>\n",
              "  </tbody>\n",
              "</table>\n",
              "<p>5 rows × 22 columns</p>\n",
              "</div>"
            ],
            "text/plain": [
              "                                              SongID           Performer  \\\n",
              "0     -twistin'-White Silver SandsBill Black's Combo  Bill Black's Combo   \n",
              "1  ¿Dònde Està Santa Claus? (Where Is Santa Claus...          Augie Rios   \n",
              "2             ......And Roses And RosesAndy Williams       Andy Williams   \n",
              "3           ...And Then There Were DrumsSandy Nelson        Sandy Nelson   \n",
              "4                ...Baby One More TimeBritney Spears      Britney Spears   \n",
              "\n",
              "                                               Song  \\\n",
              "0                      -twistin'-White Silver Sands   \n",
              "1  ¿Dònde Està Santa Claus? (Where Is Santa Claus?)   \n",
              "2                         ......And Roses And Roses   \n",
              "3                      ...And Then There Were Drums   \n",
              "4                             ...Baby One More Time   \n",
              "\n",
              "                                       spotify_genre        spotify_track_id  \\\n",
              "0                                                 []                     NaN   \n",
              "1                                        ['novelty']                     NaN   \n",
              "2  ['adult standards', 'brill building pop', 'eas...  3tvqPPpXyIgKrm4PR9HCf0   \n",
              "3   ['rock-and-roll', 'space age pop', 'surf music']  1fHHq3qHU8wpRKHzhojZ4a   \n",
              "4              ['dance pop', 'pop', 'post-teen pop']  3MjUtNVVq3C8Fn0MP3zhXa   \n",
              "\n",
              "                           spotify_track_preview_url  \\\n",
              "0                                                NaN   \n",
              "1                                                NaN   \n",
              "2  https://p.scdn.co/mp3-preview/cef4883cfd1e0e53...   \n",
              "3                                                NaN   \n",
              "4  https://p.scdn.co/mp3-preview/da2134a161f1cb34...   \n",
              "\n",
              "   spotify_track_duration_ms spotify_track_explicit  \\\n",
              "0                        NaN                    NaN   \n",
              "1                        NaN                    NaN   \n",
              "2                   166106.0                  False   \n",
              "3                   172066.0                  False   \n",
              "4                   211066.0                  False   \n",
              "\n",
              "                              spotify_track_album  danceability  ...  \\\n",
              "0                                             NaN           NaN  ...   \n",
              "1                                             NaN           NaN  ...   \n",
              "2                     The Essential Andy Williams         0.154  ...   \n",
              "3                           Compelling Percussion         0.588  ...   \n",
              "4  ...Baby One More Time (Digital Deluxe Version)         0.759  ...   \n",
              "\n",
              "   loudness  mode  speechiness  acousticness  instrumentalness  liveness  \\\n",
              "0       NaN   NaN          NaN           NaN               NaN       NaN   \n",
              "1       NaN   NaN          NaN           NaN               NaN       NaN   \n",
              "2   -14.063   1.0       0.0315       0.91100          0.000267     0.112   \n",
              "3   -17.278   0.0       0.0361       0.00256          0.745000     0.145   \n",
              "4    -5.745   0.0       0.0307       0.20200          0.000131     0.443   \n",
              "\n",
              "   valence    tempo  time_signature  spotify_track_popularity  \n",
              "0      NaN      NaN             NaN                       NaN  \n",
              "1      NaN      NaN             NaN                       NaN  \n",
              "2    0.150   83.969             4.0                      38.0  \n",
              "3    0.801  121.962             4.0                      11.0  \n",
              "4    0.907   92.960             4.0                      77.0  \n",
              "\n",
              "[5 rows x 22 columns]"
            ]
          },
          "execution_count": 3,
          "metadata": {},
          "output_type": "execute_result"
        }
      ],
      "source": [
        "df.head()"
      ]
    },
    {
      "cell_type": "code",
      "execution_count": 4,
      "metadata": {
        "colab": {
          "base_uri": "https://localhost:8080/"
        },
        "id": "WlVVgSrJRbTV",
        "outputId": "5beac6aa-a0b7-4bd4-edd8-0ea74a3753ad"
      },
      "outputs": [
        {
          "data": {
            "text/plain": [
              "(29503, 22)"
            ]
          },
          "execution_count": 4,
          "metadata": {},
          "output_type": "execute_result"
        }
      ],
      "source": [
        "df.shape"
      ]
    },
    {
      "cell_type": "markdown",
      "metadata": {
        "id": "DcA9_TocSTcP"
      },
      "source": [
        "**Data Preprocessing**"
      ]
    },
    {
      "cell_type": "markdown",
      "metadata": {
        "id": "v19QFLcyWfRz"
      },
      "source": [
        "* Removing duplicate and null values"
      ]
    },
    {
      "cell_type": "code",
      "execution_count": 5,
      "metadata": {
        "colab": {
          "base_uri": "https://localhost:8080/"
        },
        "id": "xiAwfSpqXFgn",
        "outputId": "0906d4fb-ff6a-46f8-9b1e-c6b3e98c610c"
      },
      "outputs": [
        {
          "data": {
            "text/plain": [
              "SongID                           0\n",
              "Performer                        0\n",
              "Song                             0\n",
              "spotify_genre                 1600\n",
              "spotify_track_id              5106\n",
              "spotify_track_preview_url    15012\n",
              "spotify_track_duration_ms     5106\n",
              "spotify_track_explicit        5106\n",
              "spotify_track_album           5112\n",
              "danceability                  5169\n",
              "energy                        5169\n",
              "key                           5169\n",
              "loudness                      5169\n",
              "mode                          5169\n",
              "speechiness                   5169\n",
              "acousticness                  5169\n",
              "instrumentalness              5169\n",
              "liveness                      5169\n",
              "valence                       5169\n",
              "tempo                         5169\n",
              "time_signature                5169\n",
              "spotify_track_popularity      5106\n",
              "dtype: int64"
            ]
          },
          "execution_count": 5,
          "metadata": {},
          "output_type": "execute_result"
        }
      ],
      "source": [
        "df.isna().sum()"
      ]
    },
    {
      "cell_type": "code",
      "execution_count": 6,
      "metadata": {
        "id": "j-YoupDLXKOT"
      },
      "outputs": [],
      "source": [
        "df = df.dropna()"
      ]
    },
    {
      "cell_type": "code",
      "execution_count": 7,
      "metadata": {
        "colab": {
          "base_uri": "https://localhost:8080/"
        },
        "id": "-U7hUUttZXu-",
        "outputId": "164efc0f-63d9-4fca-acbe-a841a059a7b7"
      },
      "outputs": [
        {
          "data": {
            "text/plain": [
              "8"
            ]
          },
          "execution_count": 7,
          "metadata": {},
          "output_type": "execute_result"
        }
      ],
      "source": [
        "df.duplicated().sum()"
      ]
    },
    {
      "cell_type": "code",
      "execution_count": 8,
      "metadata": {
        "colab": {
          "base_uri": "https://localhost:8080/",
          "height": 973
        },
        "id": "gmyWndWtZbN0",
        "outputId": "b9d33e99-213b-4207-a175-29582cb63a01"
      },
      "outputs": [
        {
          "data": {
            "text/html": [
              "<div>\n",
              "<style scoped>\n",
              "    .dataframe tbody tr th:only-of-type {\n",
              "        vertical-align: middle;\n",
              "    }\n",
              "\n",
              "    .dataframe tbody tr th {\n",
              "        vertical-align: top;\n",
              "    }\n",
              "\n",
              "    .dataframe thead th {\n",
              "        text-align: right;\n",
              "    }\n",
              "</style>\n",
              "<table border=\"1\" class=\"dataframe\">\n",
              "  <thead>\n",
              "    <tr style=\"text-align: right;\">\n",
              "      <th></th>\n",
              "      <th>SongID</th>\n",
              "      <th>Performer</th>\n",
              "      <th>Song</th>\n",
              "      <th>spotify_genre</th>\n",
              "      <th>spotify_track_id</th>\n",
              "      <th>spotify_track_preview_url</th>\n",
              "      <th>spotify_track_duration_ms</th>\n",
              "      <th>spotify_track_explicit</th>\n",
              "      <th>spotify_track_album</th>\n",
              "      <th>danceability</th>\n",
              "      <th>...</th>\n",
              "      <th>loudness</th>\n",
              "      <th>mode</th>\n",
              "      <th>speechiness</th>\n",
              "      <th>acousticness</th>\n",
              "      <th>instrumentalness</th>\n",
              "      <th>liveness</th>\n",
              "      <th>valence</th>\n",
              "      <th>tempo</th>\n",
              "      <th>time_signature</th>\n",
              "      <th>spotify_track_popularity</th>\n",
              "    </tr>\n",
              "  </thead>\n",
              "  <tbody>\n",
              "    <tr>\n",
              "      <th>2</th>\n",
              "      <td>......And Roses And RosesAndy Williams</td>\n",
              "      <td>Andy Williams</td>\n",
              "      <td>......And Roses And Roses</td>\n",
              "      <td>['adult standards', 'brill building pop', 'eas...</td>\n",
              "      <td>3tvqPPpXyIgKrm4PR9HCf0</td>\n",
              "      <td>https://p.scdn.co/mp3-preview/cef4883cfd1e0e53...</td>\n",
              "      <td>166106.0</td>\n",
              "      <td>False</td>\n",
              "      <td>The Essential Andy Williams</td>\n",
              "      <td>0.154</td>\n",
              "      <td>...</td>\n",
              "      <td>-14.063</td>\n",
              "      <td>1.0</td>\n",
              "      <td>0.0315</td>\n",
              "      <td>0.91100</td>\n",
              "      <td>0.000267</td>\n",
              "      <td>0.1120</td>\n",
              "      <td>0.150</td>\n",
              "      <td>83.969</td>\n",
              "      <td>4.0</td>\n",
              "      <td>38.0</td>\n",
              "    </tr>\n",
              "    <tr>\n",
              "      <th>4</th>\n",
              "      <td>...Baby One More TimeBritney Spears</td>\n",
              "      <td>Britney Spears</td>\n",
              "      <td>...Baby One More Time</td>\n",
              "      <td>['dance pop', 'pop', 'post-teen pop']</td>\n",
              "      <td>3MjUtNVVq3C8Fn0MP3zhXa</td>\n",
              "      <td>https://p.scdn.co/mp3-preview/da2134a161f1cb34...</td>\n",
              "      <td>211066.0</td>\n",
              "      <td>False</td>\n",
              "      <td>...Baby One More Time (Digital Deluxe Version)</td>\n",
              "      <td>0.759</td>\n",
              "      <td>...</td>\n",
              "      <td>-5.745</td>\n",
              "      <td>0.0</td>\n",
              "      <td>0.0307</td>\n",
              "      <td>0.20200</td>\n",
              "      <td>0.000131</td>\n",
              "      <td>0.4430</td>\n",
              "      <td>0.907</td>\n",
              "      <td>92.960</td>\n",
              "      <td>4.0</td>\n",
              "      <td>77.0</td>\n",
              "    </tr>\n",
              "    <tr>\n",
              "      <th>7</th>\n",
              "      <td>'65 Love AffairPaul Davis</td>\n",
              "      <td>Paul Davis</td>\n",
              "      <td>'65 Love Affair</td>\n",
              "      <td>['album rock', 'bubblegum pop', 'country rock'...</td>\n",
              "      <td>5nBp8F6tekSrnFg8G2Pvug</td>\n",
              "      <td>https://p.scdn.co/mp3-preview/a701445830ecacfb...</td>\n",
              "      <td>219813.0</td>\n",
              "      <td>False</td>\n",
              "      <td>Radio Hits Of the '80s</td>\n",
              "      <td>0.647</td>\n",
              "      <td>...</td>\n",
              "      <td>-4.247</td>\n",
              "      <td>0.0</td>\n",
              "      <td>0.0274</td>\n",
              "      <td>0.43200</td>\n",
              "      <td>0.000006</td>\n",
              "      <td>0.1330</td>\n",
              "      <td>0.952</td>\n",
              "      <td>155.697</td>\n",
              "      <td>4.0</td>\n",
              "      <td>40.0</td>\n",
              "    </tr>\n",
              "    <tr>\n",
              "      <th>10</th>\n",
              "      <td>'til I Can Make It On My OwnTammy Wynette</td>\n",
              "      <td>Tammy Wynette</td>\n",
              "      <td>'til I Can Make It On My Own</td>\n",
              "      <td>['country', 'country dawn', 'nashville sound']</td>\n",
              "      <td>0aJHZYjwbfTmeyUWF7zGxI</td>\n",
              "      <td>https://p.scdn.co/mp3-preview/73a24c43d2b48dc5...</td>\n",
              "      <td>182080.0</td>\n",
              "      <td>False</td>\n",
              "      <td>The Essential Tammy Wynette</td>\n",
              "      <td>0.450</td>\n",
              "      <td>...</td>\n",
              "      <td>-12.022</td>\n",
              "      <td>1.0</td>\n",
              "      <td>0.0318</td>\n",
              "      <td>0.83200</td>\n",
              "      <td>0.000035</td>\n",
              "      <td>0.1080</td>\n",
              "      <td>0.146</td>\n",
              "      <td>141.148</td>\n",
              "      <td>4.0</td>\n",
              "      <td>31.0</td>\n",
              "    </tr>\n",
              "    <tr>\n",
              "      <th>12</th>\n",
              "      <td>'Til My Baby Comes HomeLuther Vandross</td>\n",
              "      <td>Luther Vandross</td>\n",
              "      <td>'Til My Baby Comes Home</td>\n",
              "      <td>['funk', 'motown', 'neo soul', 'new jack swing...</td>\n",
              "      <td>2R97RZWUx4vAFbMMtmb5Ss</td>\n",
              "      <td>https://p.scdn.co/mp3-preview/c54184ec2fc7e8bd...</td>\n",
              "      <td>332226.0</td>\n",
              "      <td>False</td>\n",
              "      <td>The Night I Fell In Love</td>\n",
              "      <td>0.804</td>\n",
              "      <td>...</td>\n",
              "      <td>-6.714</td>\n",
              "      <td>0.0</td>\n",
              "      <td>0.1830</td>\n",
              "      <td>0.05670</td>\n",
              "      <td>0.000006</td>\n",
              "      <td>0.0253</td>\n",
              "      <td>0.802</td>\n",
              "      <td>139.663</td>\n",
              "      <td>4.0</td>\n",
              "      <td>29.0</td>\n",
              "    </tr>\n",
              "    <tr>\n",
              "      <th>...</th>\n",
              "      <td>...</td>\n",
              "      <td>...</td>\n",
              "      <td>...</td>\n",
              "      <td>...</td>\n",
              "      <td>...</td>\n",
              "      <td>...</td>\n",
              "      <td>...</td>\n",
              "      <td>...</td>\n",
              "      <td>...</td>\n",
              "      <td>...</td>\n",
              "      <td>...</td>\n",
              "      <td>...</td>\n",
              "      <td>...</td>\n",
              "      <td>...</td>\n",
              "      <td>...</td>\n",
              "      <td>...</td>\n",
              "      <td>...</td>\n",
              "      <td>...</td>\n",
              "      <td>...</td>\n",
              "      <td>...</td>\n",
              "      <td>...</td>\n",
              "    </tr>\n",
              "    <tr>\n",
              "      <th>29495</th>\n",
              "      <td>Zip CodeThe Five Americans</td>\n",
              "      <td>The Five Americans</td>\n",
              "      <td>Zip Code</td>\n",
              "      <td>['bubblegum pop', 'classic garage rock', 'frea...</td>\n",
              "      <td>7hTW791CEdFSlw2wouCVYP</td>\n",
              "      <td>https://p.scdn.co/mp3-preview/dbdb31b788ce42e4...</td>\n",
              "      <td>175040.0</td>\n",
              "      <td>False</td>\n",
              "      <td>The Five Americans (Rerecorded Versions)</td>\n",
              "      <td>0.393</td>\n",
              "      <td>...</td>\n",
              "      <td>-5.986</td>\n",
              "      <td>1.0</td>\n",
              "      <td>0.0267</td>\n",
              "      <td>0.03940</td>\n",
              "      <td>0.000000</td>\n",
              "      <td>0.0479</td>\n",
              "      <td>0.927</td>\n",
              "      <td>139.535</td>\n",
              "      <td>4.0</td>\n",
              "      <td>5.0</td>\n",
              "    </tr>\n",
              "    <tr>\n",
              "      <th>29497</th>\n",
              "      <td>ZombieBad Wolves</td>\n",
              "      <td>Bad Wolves</td>\n",
              "      <td>Zombie</td>\n",
              "      <td>['alternative metal', 'metal', 'post-grunge']</td>\n",
              "      <td>1vNoA9F5ASnlBISFekDmg3</td>\n",
              "      <td>https://p.scdn.co/mp3-preview/4978147ac417f060...</td>\n",
              "      <td>254805.0</td>\n",
              "      <td>False</td>\n",
              "      <td>Zombie</td>\n",
              "      <td>0.448</td>\n",
              "      <td>...</td>\n",
              "      <td>-3.244</td>\n",
              "      <td>0.0</td>\n",
              "      <td>0.0319</td>\n",
              "      <td>0.00756</td>\n",
              "      <td>0.000000</td>\n",
              "      <td>0.1170</td>\n",
              "      <td>0.190</td>\n",
              "      <td>77.093</td>\n",
              "      <td>4.0</td>\n",
              "      <td>74.0</td>\n",
              "    </tr>\n",
              "    <tr>\n",
              "      <th>29499</th>\n",
              "      <td>ZoomFuture</td>\n",
              "      <td>Future</td>\n",
              "      <td>Zoom</td>\n",
              "      <td>['atl hip hop', 'hip hop', 'pop rap', 'rap', '...</td>\n",
              "      <td>2IG6Te7JyvrtqhFeOF7le4</td>\n",
              "      <td>https://p.scdn.co/mp3-preview/cb8fde6edc08e70a...</td>\n",
              "      <td>278429.0</td>\n",
              "      <td>True</td>\n",
              "      <td>FUTURE</td>\n",
              "      <td>0.852</td>\n",
              "      <td>...</td>\n",
              "      <td>-7.673</td>\n",
              "      <td>1.0</td>\n",
              "      <td>0.4260</td>\n",
              "      <td>0.01450</td>\n",
              "      <td>0.000000</td>\n",
              "      <td>0.2630</td>\n",
              "      <td>0.627</td>\n",
              "      <td>150.945</td>\n",
              "      <td>4.0</td>\n",
              "      <td>51.0</td>\n",
              "    </tr>\n",
              "    <tr>\n",
              "      <th>29501</th>\n",
              "      <td>Zorba The GreekHerb Alpert &amp; The Tijuana Brass</td>\n",
              "      <td>Herb Alpert &amp; The Tijuana Brass</td>\n",
              "      <td>Zorba The Greek</td>\n",
              "      <td>['adult standards', 'easy listening', 'lounge']</td>\n",
              "      <td>3WLEVNohakzZmMpN5W7mHK</td>\n",
              "      <td>https://p.scdn.co/mp3-preview/1841a4034ba42fc0...</td>\n",
              "      <td>264853.0</td>\n",
              "      <td>False</td>\n",
              "      <td>!!!Going Places!!!</td>\n",
              "      <td>0.531</td>\n",
              "      <td>...</td>\n",
              "      <td>-12.702</td>\n",
              "      <td>1.0</td>\n",
              "      <td>0.3230</td>\n",
              "      <td>0.15400</td>\n",
              "      <td>0.279000</td>\n",
              "      <td>0.0584</td>\n",
              "      <td>0.192</td>\n",
              "      <td>82.107</td>\n",
              "      <td>4.0</td>\n",
              "      <td>35.0</td>\n",
              "    </tr>\n",
              "    <tr>\n",
              "      <th>29502</th>\n",
              "      <td>Zunga ZengK7</td>\n",
              "      <td>K7</td>\n",
              "      <td>Zunga Zeng</td>\n",
              "      <td>['freestyle']</td>\n",
              "      <td>0XevPPcCBPovknaBw3lFvh</td>\n",
              "      <td>https://p.scdn.co/mp3-preview/8d5174aeb7d6b740...</td>\n",
              "      <td>273000.0</td>\n",
              "      <td>False</td>\n",
              "      <td>Swing Batta Swing!</td>\n",
              "      <td>0.846</td>\n",
              "      <td>...</td>\n",
              "      <td>-9.642</td>\n",
              "      <td>1.0</td>\n",
              "      <td>0.1400</td>\n",
              "      <td>0.04780</td>\n",
              "      <td>0.000363</td>\n",
              "      <td>0.0392</td>\n",
              "      <td>0.619</td>\n",
              "      <td>103.743</td>\n",
              "      <td>4.0</td>\n",
              "      <td>28.0</td>\n",
              "    </tr>\n",
              "  </tbody>\n",
              "</table>\n",
              "<p>14357 rows × 22 columns</p>\n",
              "</div>"
            ],
            "text/plain": [
              "                                               SongID  \\\n",
              "2              ......And Roses And RosesAndy Williams   \n",
              "4                 ...Baby One More TimeBritney Spears   \n",
              "7                           '65 Love AffairPaul Davis   \n",
              "10          'til I Can Make It On My OwnTammy Wynette   \n",
              "12             'Til My Baby Comes HomeLuther Vandross   \n",
              "...                                               ...   \n",
              "29495                      Zip CodeThe Five Americans   \n",
              "29497                                ZombieBad Wolves   \n",
              "29499                                      ZoomFuture   \n",
              "29501  Zorba The GreekHerb Alpert & The Tijuana Brass   \n",
              "29502                                    Zunga ZengK7   \n",
              "\n",
              "                             Performer                          Song  \\\n",
              "2                        Andy Williams     ......And Roses And Roses   \n",
              "4                       Britney Spears         ...Baby One More Time   \n",
              "7                           Paul Davis               '65 Love Affair   \n",
              "10                       Tammy Wynette  'til I Can Make It On My Own   \n",
              "12                     Luther Vandross       'Til My Baby Comes Home   \n",
              "...                                ...                           ...   \n",
              "29495               The Five Americans                      Zip Code   \n",
              "29497                       Bad Wolves                        Zombie   \n",
              "29499                           Future                          Zoom   \n",
              "29501  Herb Alpert & The Tijuana Brass               Zorba The Greek   \n",
              "29502                               K7                    Zunga Zeng   \n",
              "\n",
              "                                           spotify_genre  \\\n",
              "2      ['adult standards', 'brill building pop', 'eas...   \n",
              "4                  ['dance pop', 'pop', 'post-teen pop']   \n",
              "7      ['album rock', 'bubblegum pop', 'country rock'...   \n",
              "10        ['country', 'country dawn', 'nashville sound']   \n",
              "12     ['funk', 'motown', 'neo soul', 'new jack swing...   \n",
              "...                                                  ...   \n",
              "29495  ['bubblegum pop', 'classic garage rock', 'frea...   \n",
              "29497      ['alternative metal', 'metal', 'post-grunge']   \n",
              "29499  ['atl hip hop', 'hip hop', 'pop rap', 'rap', '...   \n",
              "29501    ['adult standards', 'easy listening', 'lounge']   \n",
              "29502                                      ['freestyle']   \n",
              "\n",
              "             spotify_track_id  \\\n",
              "2      3tvqPPpXyIgKrm4PR9HCf0   \n",
              "4      3MjUtNVVq3C8Fn0MP3zhXa   \n",
              "7      5nBp8F6tekSrnFg8G2Pvug   \n",
              "10     0aJHZYjwbfTmeyUWF7zGxI   \n",
              "12     2R97RZWUx4vAFbMMtmb5Ss   \n",
              "...                       ...   \n",
              "29495  7hTW791CEdFSlw2wouCVYP   \n",
              "29497  1vNoA9F5ASnlBISFekDmg3   \n",
              "29499  2IG6Te7JyvrtqhFeOF7le4   \n",
              "29501  3WLEVNohakzZmMpN5W7mHK   \n",
              "29502  0XevPPcCBPovknaBw3lFvh   \n",
              "\n",
              "                               spotify_track_preview_url  \\\n",
              "2      https://p.scdn.co/mp3-preview/cef4883cfd1e0e53...   \n",
              "4      https://p.scdn.co/mp3-preview/da2134a161f1cb34...   \n",
              "7      https://p.scdn.co/mp3-preview/a701445830ecacfb...   \n",
              "10     https://p.scdn.co/mp3-preview/73a24c43d2b48dc5...   \n",
              "12     https://p.scdn.co/mp3-preview/c54184ec2fc7e8bd...   \n",
              "...                                                  ...   \n",
              "29495  https://p.scdn.co/mp3-preview/dbdb31b788ce42e4...   \n",
              "29497  https://p.scdn.co/mp3-preview/4978147ac417f060...   \n",
              "29499  https://p.scdn.co/mp3-preview/cb8fde6edc08e70a...   \n",
              "29501  https://p.scdn.co/mp3-preview/1841a4034ba42fc0...   \n",
              "29502  https://p.scdn.co/mp3-preview/8d5174aeb7d6b740...   \n",
              "\n",
              "       spotify_track_duration_ms spotify_track_explicit  \\\n",
              "2                       166106.0                  False   \n",
              "4                       211066.0                  False   \n",
              "7                       219813.0                  False   \n",
              "10                      182080.0                  False   \n",
              "12                      332226.0                  False   \n",
              "...                          ...                    ...   \n",
              "29495                   175040.0                  False   \n",
              "29497                   254805.0                  False   \n",
              "29499                   278429.0                   True   \n",
              "29501                   264853.0                  False   \n",
              "29502                   273000.0                  False   \n",
              "\n",
              "                                  spotify_track_album  danceability  ...  \\\n",
              "2                         The Essential Andy Williams         0.154  ...   \n",
              "4      ...Baby One More Time (Digital Deluxe Version)         0.759  ...   \n",
              "7                              Radio Hits Of the '80s         0.647  ...   \n",
              "10                        The Essential Tammy Wynette         0.450  ...   \n",
              "12                           The Night I Fell In Love         0.804  ...   \n",
              "...                                               ...           ...  ...   \n",
              "29495        The Five Americans (Rerecorded Versions)         0.393  ...   \n",
              "29497                                          Zombie         0.448  ...   \n",
              "29499                                          FUTURE         0.852  ...   \n",
              "29501                              !!!Going Places!!!         0.531  ...   \n",
              "29502                              Swing Batta Swing!         0.846  ...   \n",
              "\n",
              "       loudness  mode  speechiness  acousticness  instrumentalness  liveness  \\\n",
              "2       -14.063   1.0       0.0315       0.91100          0.000267    0.1120   \n",
              "4        -5.745   0.0       0.0307       0.20200          0.000131    0.4430   \n",
              "7        -4.247   0.0       0.0274       0.43200          0.000006    0.1330   \n",
              "10      -12.022   1.0       0.0318       0.83200          0.000035    0.1080   \n",
              "12       -6.714   0.0       0.1830       0.05670          0.000006    0.0253   \n",
              "...         ...   ...          ...           ...               ...       ...   \n",
              "29495    -5.986   1.0       0.0267       0.03940          0.000000    0.0479   \n",
              "29497    -3.244   0.0       0.0319       0.00756          0.000000    0.1170   \n",
              "29499    -7.673   1.0       0.4260       0.01450          0.000000    0.2630   \n",
              "29501   -12.702   1.0       0.3230       0.15400          0.279000    0.0584   \n",
              "29502    -9.642   1.0       0.1400       0.04780          0.000363    0.0392   \n",
              "\n",
              "       valence    tempo  time_signature  spotify_track_popularity  \n",
              "2        0.150   83.969             4.0                      38.0  \n",
              "4        0.907   92.960             4.0                      77.0  \n",
              "7        0.952  155.697             4.0                      40.0  \n",
              "10       0.146  141.148             4.0                      31.0  \n",
              "12       0.802  139.663             4.0                      29.0  \n",
              "...        ...      ...             ...                       ...  \n",
              "29495    0.927  139.535             4.0                       5.0  \n",
              "29497    0.190   77.093             4.0                      74.0  \n",
              "29499    0.627  150.945             4.0                      51.0  \n",
              "29501    0.192   82.107             4.0                      35.0  \n",
              "29502    0.619  103.743             4.0                      28.0  \n",
              "\n",
              "[14357 rows x 22 columns]"
            ]
          },
          "execution_count": 8,
          "metadata": {},
          "output_type": "execute_result"
        }
      ],
      "source": [
        "df.drop_duplicates()"
      ]
    },
    {
      "cell_type": "code",
      "execution_count": 9,
      "metadata": {
        "colab": {
          "base_uri": "https://localhost:8080/"
        },
        "id": "GLZnT5VxZgvN",
        "outputId": "2f395e9e-da37-4fd5-d48f-58b94cdc5e05"
      },
      "outputs": [
        {
          "data": {
            "text/plain": [
              "(14365, 22)"
            ]
          },
          "execution_count": 9,
          "metadata": {},
          "output_type": "execute_result"
        }
      ],
      "source": [
        "df.shape"
      ]
    },
    {
      "cell_type": "markdown",
      "metadata": {
        "id": "gsK8IImDUKZc"
      },
      "source": [
        "* Removing unnecessary data"
      ]
    },
    {
      "cell_type": "code",
      "execution_count": 10,
      "metadata": {
        "id": "sFfFRnEqUUXR"
      },
      "outputs": [],
      "source": [
        "df = df[['Song','Performer','spotify_genre','danceability','energy','key','loudness','acousticness','tempo','instrumentalness','liveness']]"
      ]
    },
    {
      "cell_type": "code",
      "execution_count": 11,
      "metadata": {
        "colab": {
          "base_uri": "https://localhost:8080/",
          "height": 337
        },
        "id": "_2bYzGuNVtgq",
        "outputId": "59bb4bda-d048-4e3a-d5c7-26eb15a42dc2"
      },
      "outputs": [
        {
          "data": {
            "text/html": [
              "<div>\n",
              "<style scoped>\n",
              "    .dataframe tbody tr th:only-of-type {\n",
              "        vertical-align: middle;\n",
              "    }\n",
              "\n",
              "    .dataframe tbody tr th {\n",
              "        vertical-align: top;\n",
              "    }\n",
              "\n",
              "    .dataframe thead th {\n",
              "        text-align: right;\n",
              "    }\n",
              "</style>\n",
              "<table border=\"1\" class=\"dataframe\">\n",
              "  <thead>\n",
              "    <tr style=\"text-align: right;\">\n",
              "      <th></th>\n",
              "      <th>Song</th>\n",
              "      <th>Performer</th>\n",
              "      <th>spotify_genre</th>\n",
              "      <th>danceability</th>\n",
              "      <th>energy</th>\n",
              "      <th>key</th>\n",
              "      <th>loudness</th>\n",
              "      <th>acousticness</th>\n",
              "      <th>tempo</th>\n",
              "      <th>instrumentalness</th>\n",
              "      <th>liveness</th>\n",
              "    </tr>\n",
              "  </thead>\n",
              "  <tbody>\n",
              "    <tr>\n",
              "      <th>2</th>\n",
              "      <td>......And Roses And Roses</td>\n",
              "      <td>Andy Williams</td>\n",
              "      <td>['adult standards', 'brill building pop', 'eas...</td>\n",
              "      <td>0.154</td>\n",
              "      <td>0.185</td>\n",
              "      <td>5.0</td>\n",
              "      <td>-14.063</td>\n",
              "      <td>0.9110</td>\n",
              "      <td>83.969</td>\n",
              "      <td>0.000267</td>\n",
              "      <td>0.1120</td>\n",
              "    </tr>\n",
              "    <tr>\n",
              "      <th>4</th>\n",
              "      <td>...Baby One More Time</td>\n",
              "      <td>Britney Spears</td>\n",
              "      <td>['dance pop', 'pop', 'post-teen pop']</td>\n",
              "      <td>0.759</td>\n",
              "      <td>0.699</td>\n",
              "      <td>0.0</td>\n",
              "      <td>-5.745</td>\n",
              "      <td>0.2020</td>\n",
              "      <td>92.960</td>\n",
              "      <td>0.000131</td>\n",
              "      <td>0.4430</td>\n",
              "    </tr>\n",
              "    <tr>\n",
              "      <th>7</th>\n",
              "      <td>'65 Love Affair</td>\n",
              "      <td>Paul Davis</td>\n",
              "      <td>['album rock', 'bubblegum pop', 'country rock'...</td>\n",
              "      <td>0.647</td>\n",
              "      <td>0.686</td>\n",
              "      <td>2.0</td>\n",
              "      <td>-4.247</td>\n",
              "      <td>0.4320</td>\n",
              "      <td>155.697</td>\n",
              "      <td>0.000006</td>\n",
              "      <td>0.1330</td>\n",
              "    </tr>\n",
              "    <tr>\n",
              "      <th>10</th>\n",
              "      <td>'til I Can Make It On My Own</td>\n",
              "      <td>Tammy Wynette</td>\n",
              "      <td>['country', 'country dawn', 'nashville sound']</td>\n",
              "      <td>0.450</td>\n",
              "      <td>0.294</td>\n",
              "      <td>7.0</td>\n",
              "      <td>-12.022</td>\n",
              "      <td>0.8320</td>\n",
              "      <td>141.148</td>\n",
              "      <td>0.000035</td>\n",
              "      <td>0.1080</td>\n",
              "    </tr>\n",
              "    <tr>\n",
              "      <th>12</th>\n",
              "      <td>'Til My Baby Comes Home</td>\n",
              "      <td>Luther Vandross</td>\n",
              "      <td>['funk', 'motown', 'neo soul', 'new jack swing...</td>\n",
              "      <td>0.804</td>\n",
              "      <td>0.714</td>\n",
              "      <td>11.0</td>\n",
              "      <td>-6.714</td>\n",
              "      <td>0.0567</td>\n",
              "      <td>139.663</td>\n",
              "      <td>0.000006</td>\n",
              "      <td>0.0253</td>\n",
              "    </tr>\n",
              "  </tbody>\n",
              "</table>\n",
              "</div>"
            ],
            "text/plain": [
              "                            Song        Performer  \\\n",
              "2      ......And Roses And Roses    Andy Williams   \n",
              "4          ...Baby One More Time   Britney Spears   \n",
              "7                '65 Love Affair       Paul Davis   \n",
              "10  'til I Can Make It On My Own    Tammy Wynette   \n",
              "12       'Til My Baby Comes Home  Luther Vandross   \n",
              "\n",
              "                                        spotify_genre  danceability  energy  \\\n",
              "2   ['adult standards', 'brill building pop', 'eas...         0.154   0.185   \n",
              "4               ['dance pop', 'pop', 'post-teen pop']         0.759   0.699   \n",
              "7   ['album rock', 'bubblegum pop', 'country rock'...         0.647   0.686   \n",
              "10     ['country', 'country dawn', 'nashville sound']         0.450   0.294   \n",
              "12  ['funk', 'motown', 'neo soul', 'new jack swing...         0.804   0.714   \n",
              "\n",
              "     key  loudness  acousticness    tempo  instrumentalness  liveness  \n",
              "2    5.0   -14.063        0.9110   83.969          0.000267    0.1120  \n",
              "4    0.0    -5.745        0.2020   92.960          0.000131    0.4430  \n",
              "7    2.0    -4.247        0.4320  155.697          0.000006    0.1330  \n",
              "10   7.0   -12.022        0.8320  141.148          0.000035    0.1080  \n",
              "12  11.0    -6.714        0.0567  139.663          0.000006    0.0253  "
            ]
          },
          "execution_count": 11,
          "metadata": {},
          "output_type": "execute_result"
        }
      ],
      "source": [
        "df.head()"
      ]
    },
    {
      "cell_type": "markdown",
      "metadata": {
        "id": "4IvstJHpj8U2"
      },
      "source": [
        "**Data filtering and processing**"
      ]
    },
    {
      "cell_type": "code",
      "execution_count": 12,
      "metadata": {
        "colab": {
          "base_uri": "https://localhost:8080/"
        },
        "id": "4X6cC_ueD3DT",
        "outputId": "d90ec4e6-900a-4cd0-bb14-041a82ec67dd"
      },
      "outputs": [],
      "source": [
        "df.Song = df.Song.str.replace('.', '')"
      ]
    },
    {
      "cell_type": "code",
      "execution_count": 13,
      "metadata": {
        "colab": {
          "base_uri": "https://localhost:8080/"
        },
        "id": "3irfbKcbe-aP",
        "outputId": "2707e374-16a0-4adf-d4cb-14656a6d8b56"
      },
      "outputs": [
        {
          "data": {
            "text/plain": [
              "2        ['adultstandards','brillbuildingpop','easylist...\n",
              "4                        ['dancepop','pop','post-teenpop']\n",
              "7        ['albumrock','bubblegumpop','countryrock','fol...\n",
              "10              ['country','countrydawn','nashvillesound']\n",
              "12       ['funk','motown','neosoul','newjackswing','qui...\n",
              "                               ...                        \n",
              "29495     ['bubblegumpop','classicgaragerock','freakbeat']\n",
              "29497           ['alternativemetal','metal','post-grunge']\n",
              "29499    ['atlhiphop','hiphop','poprap','rap','southern...\n",
              "29501          ['adultstandards','easylistening','lounge']\n",
              "29502                                        ['freestyle']\n",
              "Name: spotify_genre, Length: 14365, dtype: object"
            ]
          },
          "execution_count": 13,
          "metadata": {},
          "output_type": "execute_result"
        }
      ],
      "source": [
        "df['spotify_genre'] = df['spotify_genre'].apply(lambda x: x.replace(\" \",\"\"))\n",
        "df['spotify_genre']"
      ]
    },
    {
      "cell_type": "code",
      "execution_count": 14,
      "metadata": {
        "colab": {
          "base_uri": "https://localhost:8080/"
        },
        "id": "0aLzqVV5x6jm",
        "outputId": "939b5754-4587-4798-d94d-35738f50d207"
      },
      "outputs": [
        {
          "data": {
            "text/plain": [
              "2                      AndyWilliams\n",
              "4                     BritneySpears\n",
              "7                         PaulDavis\n",
              "10                     TammyWynette\n",
              "12                   LutherVandross\n",
              "                    ...            \n",
              "29495              TheFiveAmericans\n",
              "29497                     BadWolves\n",
              "29499                        Future\n",
              "29501    HerbAlpert&TheTijuanaBrass\n",
              "29502                            K7\n",
              "Name: Performer, Length: 14365, dtype: object"
            ]
          },
          "execution_count": 14,
          "metadata": {},
          "output_type": "execute_result"
        }
      ],
      "source": [
        "df.Performer = df.Performer.str.replace(' ', '')\n",
        "df[\"Performer\"]"
      ]
    },
    {
      "cell_type": "code",
      "execution_count": 15,
      "metadata": {
        "id": "VL3BktiXz17F"
      },
      "outputs": [],
      "source": [
        "df['tags'] = df['spotify_genre'] + df['Performer']"
      ]
    },
    {
      "cell_type": "code",
      "execution_count": 16,
      "metadata": {
        "colab": {
          "base_uri": "https://localhost:8080/"
        },
        "id": "HhD_pvTN0d9n",
        "outputId": "c2ca19c4-c062-4c2e-d1e9-9227ecc10807"
      },
      "outputs": [
        {
          "data": {
            "text/plain": [
              "2         adultstandards brillbuildingpop easylistening...\n",
              "4                  dancepop pop post-teenpop britneyspears\n",
              "7         albumrock bubblegumpop countryrock folkrock m...\n",
              "10         country countrydawn nashvillesound tammywynette\n",
              "12        funk motown neosoul newjackswing quietstorm r...\n",
              "                               ...                        \n",
              "29495     bubblegumpop classicgaragerock freakbeat thef...\n",
              "29497         alternativemetal metal post-grunge badwolves\n",
              "29499     atlhiphop hiphop poprap rap southernhiphop tr...\n",
              "29501     adultstandards easylistening lounge herbalper...\n",
              "29502                                         freestyle k7\n",
              "Name: tags, Length: 14365, dtype: object"
            ]
          },
          "execution_count": 16,
          "metadata": {},
          "output_type": "execute_result"
        }
      ],
      "source": [
        "df['tags'] = df['tags'].str.lower()\n",
        "df['tags'] = df['tags'].str.replace(\"[\",\",\")\n",
        "df['tags'] = df['tags'].str.replace(\"]\",\",\")\n",
        "df['tags'] = df['tags'].str.replace(\"'\",\"\")\n",
        "df['tags'] = df['tags'].str.replace(\",\",\" \")\n",
        "df['tags'] = df['tags'].str.replace(\"featuring\",\" \",)\n",
        "df['tags']"
      ]
    },
    {
      "cell_type": "code",
      "execution_count": 17,
      "metadata": {
        "colab": {
          "base_uri": "https://localhost:8080/",
          "height": 424
        },
        "id": "Q9U5AQ4X2Wvm",
        "outputId": "799ddd64-aa2d-4ae1-820f-98e979319265"
      },
      "outputs": [
        {
          "data": {
            "text/html": [
              "<div>\n",
              "<style scoped>\n",
              "    .dataframe tbody tr th:only-of-type {\n",
              "        vertical-align: middle;\n",
              "    }\n",
              "\n",
              "    .dataframe tbody tr th {\n",
              "        vertical-align: top;\n",
              "    }\n",
              "\n",
              "    .dataframe thead th {\n",
              "        text-align: right;\n",
              "    }\n",
              "</style>\n",
              "<table border=\"1\" class=\"dataframe\">\n",
              "  <thead>\n",
              "    <tr style=\"text-align: right;\">\n",
              "      <th></th>\n",
              "      <th>Song</th>\n",
              "      <th>tags</th>\n",
              "      <th>Performer</th>\n",
              "    </tr>\n",
              "  </thead>\n",
              "  <tbody>\n",
              "    <tr>\n",
              "      <th>2</th>\n",
              "      <td>And Roses And Roses</td>\n",
              "      <td>adultstandards brillbuildingpop easylistening...</td>\n",
              "      <td>AndyWilliams</td>\n",
              "    </tr>\n",
              "    <tr>\n",
              "      <th>4</th>\n",
              "      <td>Baby One More Time</td>\n",
              "      <td>dancepop pop post-teenpop britneyspears</td>\n",
              "      <td>BritneySpears</td>\n",
              "    </tr>\n",
              "    <tr>\n",
              "      <th>7</th>\n",
              "      <td>'65 Love Affair</td>\n",
              "      <td>albumrock bubblegumpop countryrock folkrock m...</td>\n",
              "      <td>PaulDavis</td>\n",
              "    </tr>\n",
              "    <tr>\n",
              "      <th>10</th>\n",
              "      <td>'til I Can Make It On My Own</td>\n",
              "      <td>country countrydawn nashvillesound tammywynette</td>\n",
              "      <td>TammyWynette</td>\n",
              "    </tr>\n",
              "    <tr>\n",
              "      <th>12</th>\n",
              "      <td>'Til My Baby Comes Home</td>\n",
              "      <td>funk motown neosoul newjackswing quietstorm r...</td>\n",
              "      <td>LutherVandross</td>\n",
              "    </tr>\n",
              "    <tr>\n",
              "      <th>...</th>\n",
              "      <td>...</td>\n",
              "      <td>...</td>\n",
              "      <td>...</td>\n",
              "    </tr>\n",
              "    <tr>\n",
              "      <th>29495</th>\n",
              "      <td>Zip Code</td>\n",
              "      <td>bubblegumpop classicgaragerock freakbeat thef...</td>\n",
              "      <td>TheFiveAmericans</td>\n",
              "    </tr>\n",
              "    <tr>\n",
              "      <th>29497</th>\n",
              "      <td>Zombie</td>\n",
              "      <td>alternativemetal metal post-grunge badwolves</td>\n",
              "      <td>BadWolves</td>\n",
              "    </tr>\n",
              "    <tr>\n",
              "      <th>29499</th>\n",
              "      <td>Zoom</td>\n",
              "      <td>atlhiphop hiphop poprap rap southernhiphop tr...</td>\n",
              "      <td>Future</td>\n",
              "    </tr>\n",
              "    <tr>\n",
              "      <th>29501</th>\n",
              "      <td>Zorba The Greek</td>\n",
              "      <td>adultstandards easylistening lounge herbalper...</td>\n",
              "      <td>HerbAlpert&amp;TheTijuanaBrass</td>\n",
              "    </tr>\n",
              "    <tr>\n",
              "      <th>29502</th>\n",
              "      <td>Zunga Zeng</td>\n",
              "      <td>freestyle k7</td>\n",
              "      <td>K7</td>\n",
              "    </tr>\n",
              "  </tbody>\n",
              "</table>\n",
              "<p>14365 rows × 3 columns</p>\n",
              "</div>"
            ],
            "text/plain": [
              "                               Song  \\\n",
              "2               And Roses And Roses   \n",
              "4                Baby One More Time   \n",
              "7                   '65 Love Affair   \n",
              "10     'til I Can Make It On My Own   \n",
              "12          'Til My Baby Comes Home   \n",
              "...                             ...   \n",
              "29495                      Zip Code   \n",
              "29497                        Zombie   \n",
              "29499                          Zoom   \n",
              "29501               Zorba The Greek   \n",
              "29502                    Zunga Zeng   \n",
              "\n",
              "                                                    tags  \\\n",
              "2       adultstandards brillbuildingpop easylistening...   \n",
              "4                dancepop pop post-teenpop britneyspears   \n",
              "7       albumrock bubblegumpop countryrock folkrock m...   \n",
              "10       country countrydawn nashvillesound tammywynette   \n",
              "12      funk motown neosoul newjackswing quietstorm r...   \n",
              "...                                                  ...   \n",
              "29495   bubblegumpop classicgaragerock freakbeat thef...   \n",
              "29497       alternativemetal metal post-grunge badwolves   \n",
              "29499   atlhiphop hiphop poprap rap southernhiphop tr...   \n",
              "29501   adultstandards easylistening lounge herbalper...   \n",
              "29502                                       freestyle k7   \n",
              "\n",
              "                        Performer  \n",
              "2                    AndyWilliams  \n",
              "4                   BritneySpears  \n",
              "7                       PaulDavis  \n",
              "10                   TammyWynette  \n",
              "12                 LutherVandross  \n",
              "...                           ...  \n",
              "29495            TheFiveAmericans  \n",
              "29497                   BadWolves  \n",
              "29499                      Future  \n",
              "29501  HerbAlpert&TheTijuanaBrass  \n",
              "29502                          K7  \n",
              "\n",
              "[14365 rows x 3 columns]"
            ]
          },
          "execution_count": 17,
          "metadata": {},
          "output_type": "execute_result"
        }
      ],
      "source": [
        "new_df = df[['Song','tags','Performer']]\n",
        "new_df"
      ]
    },
    {
      "cell_type": "markdown",
      "metadata": {
        "id": "MFL0FMSB7iZT"
      },
      "source": [
        "**Vectorizer**"
      ]
    },
    {
      "cell_type": "code",
      "execution_count": 18,
      "metadata": {
        "id": "VwnE5JIR2p49"
      },
      "outputs": [],
      "source": [
        "from sklearn.feature_extraction.text import CountVectorizer\n",
        "cv = CountVectorizer(max_features=14000)\n"
      ]
    },
    {
      "cell_type": "code",
      "execution_count": 19,
      "metadata": {
        "id": "0Z3UNrA37mMa"
      },
      "outputs": [],
      "source": [
        "vectors = cv.fit_transform(new_df['tags']).toarray()"
      ]
    },
    {
      "cell_type": "code",
      "execution_count": 20,
      "metadata": {
        "colab": {
          "base_uri": "https://localhost:8080/"
        },
        "id": "HX7NT1CXXoow",
        "outputId": "a2c8e04b-935a-4283-83ef-4d94b46648b2"
      },
      "outputs": [
        {
          "data": {
            "text/plain": [
              "(14365, 5735)"
            ]
          },
          "execution_count": 20,
          "metadata": {},
          "output_type": "execute_result"
        }
      ],
      "source": [
        "vectors.shape"
      ]
    },
    {
      "cell_type": "code",
      "execution_count": 21,
      "metadata": {
        "colab": {
          "base_uri": "https://localhost:8080/"
        },
        "id": "uqtA_kB8HRUG",
        "outputId": "cbd7d22d-8202-4e9d-ecb0-096312f1a214"
      },
      "outputs": [
        {
          "data": {
            "text/plain": [
              "array(['000maniacs', '10', '10cc', ..., 'zombienation', 'zrock', 'zztop'],\n",
              "      dtype=object)"
            ]
          },
          "execution_count": 21,
          "metadata": {},
          "output_type": "execute_result"
        }
      ],
      "source": [
        "cv.get_feature_names_out()"
      ]
    },
    {
      "cell_type": "code",
      "execution_count": 22,
      "metadata": {
        "id": "NWE5ciem9vZY"
      },
      "outputs": [],
      "source": [
        "from sklearn.metrics.pairwise import cosine_similarity"
      ]
    },
    {
      "cell_type": "code",
      "execution_count": 23,
      "metadata": {
        "id": "TYUtxQ0o-C5P"
      },
      "outputs": [],
      "source": [
        "similarity = cosine_similarity(vectors)"
      ]
    },
    {
      "cell_type": "code",
      "execution_count": 24,
      "metadata": {
        "colab": {
          "base_uri": "https://localhost:8080/"
        },
        "id": "AGi9vANY-MwX",
        "outputId": "2c5744ae-e99d-424f-84c4-dbab7e99a4aa"
      },
      "outputs": [
        {
          "data": {
            "text/plain": [
              "array([1.       , 0.       , 0.1490712, ..., 0.       , 0.4      ,\n",
              "       0.       ])"
            ]
          },
          "execution_count": 24,
          "metadata": {},
          "output_type": "execute_result"
        }
      ],
      "source": [
        "similarity[0]"
      ]
    },
    {
      "cell_type": "code",
      "execution_count": 25,
      "metadata": {
        "colab": {
          "base_uri": "https://localhost:8080/"
        },
        "id": "DBUoX77w-QWW",
        "outputId": "0eda5f47-e04d-4c4b-81aa-d7d4f2a7ba39"
      },
      "outputs": [
        {
          "data": {
            "text/plain": [
              "[(88, 0.9999999999999999),\n",
              " (209, 0.9999999999999999),\n",
              " (287, 0.9999999999999999),\n",
              " (565, 0.9999999999999999),\n",
              " (1757, 0.9999999999999999)]"
            ]
          },
          "execution_count": 25,
          "metadata": {},
          "output_type": "execute_result"
        }
      ],
      "source": [
        "sorted(list(enumerate(similarity[0])),reverse = True, key = lambda x:x[1])[1:6]\n",
        "# shows similarity of song at 0 index to song at other index in descending manner and shows only 5 song [1:6]"
      ]
    },
    {
      "cell_type": "code",
      "execution_count": 26,
      "metadata": {
        "id": "M5uvIjeU_IAy"
      },
      "outputs": [],
      "source": [
        "def recommend(song_name):\n",
        "  new_new_df = new_df.copy(deep=True)\n",
        "  new_new_df['Song'] = new_new_df['Song'].str.lower()\n",
        "  song_name = str(song_name).lower()\n",
        "  t_df = new_new_df[new_new_df['Song'] == song_name]\n",
        "  if(len(t_df)==0):\n",
        "    print(\"Song not found in database so can't recommend...\")\n",
        "    return\n",
        "  song_index = new_new_df[new_new_df['Song'] == song_name].index[0]\n",
        "  distance = similarity[song_index]\n",
        "  song_list = sorted(list(enumerate(distance)),reverse = True, key = lambda x:x[1])[1:6]\n",
        "  for i in song_list:\n",
        "    print(\"Song name: \", new_df.iloc[i[0]].Song)\n",
        "    print(\"Artist name: \", new_df.iloc[i[0]].Performer, \"\\n\")"
      ]
    },
    {
      "cell_type": "code",
      "execution_count": 27,
      "metadata": {
        "colab": {
          "base_uri": "https://localhost:8080/"
        },
        "id": "cCLlXaUwTlLA",
        "outputId": "6e1d35d3-0e96-4967-fb41-c21761045caf"
      },
      "outputs": [
        {
          "name": "stdout",
          "output_type": "stream",
          "text": [
            "Song not found in database so can't recommend...\n"
          ]
        }
      ],
      "source": [
        "recommend(\"Sawaan mein lag gae aag\")"
      ]
    },
    {
      "cell_type": "code",
      "execution_count": 28,
      "metadata": {
        "colab": {
          "base_uri": "https://localhost:8080/"
        },
        "id": "3DXBWSIO-j3o",
        "outputId": "76460b9d-af8b-4e72-d8e5-2c985a2f9a61"
      },
      "outputs": [
        {
          "name": "stdout",
          "output_type": "stream",
          "text": [
            "Song name:  Always And Forever\n",
            "Artist name:  LutherVandross \n",
            "\n",
            "Song name:  Any Love\n",
            "Artist name:  LutherVandross \n",
            "\n",
            "Song name:  Dance With My Father\n",
            "Artist name:  LutherVandross \n",
            "\n",
            "Song name:  Don't Want To Be A Fool\n",
            "Artist name:  LutherVandross \n",
            "\n",
            "Song name:  Give Me The Reason\n",
            "Artist name:  LutherVandross \n",
            "\n"
          ]
        }
      ],
      "source": [
        "recommend(\"BAby one More Time\")"
      ]
    },
    {
      "cell_type": "code",
      "execution_count": 29,
      "metadata": {},
      "outputs": [],
      "source": [
        "import pickle"
      ]
    },
    {
      "cell_type": "code",
      "execution_count": 32,
      "metadata": {},
      "outputs": [],
      "source": [
        "pickle.dump(new_df.to_dict(), open('songs_dict.pkl','wb'))\n",
        "pickle.dump(similarity,open('similarity.pkl','wb'))\n",
        "pickle.dump(new_df,open('song_df.pkl','wb'))"
      ]
    },
    {
      "cell_type": "code",
      "execution_count": 31,
      "metadata": {},
      "outputs": [
        {
          "data": {
            "text/html": [
              "<div>\n",
              "<style scoped>\n",
              "    .dataframe tbody tr th:only-of-type {\n",
              "        vertical-align: middle;\n",
              "    }\n",
              "\n",
              "    .dataframe tbody tr th {\n",
              "        vertical-align: top;\n",
              "    }\n",
              "\n",
              "    .dataframe thead th {\n",
              "        text-align: right;\n",
              "    }\n",
              "</style>\n",
              "<table border=\"1\" class=\"dataframe\">\n",
              "  <thead>\n",
              "    <tr style=\"text-align: right;\">\n",
              "      <th></th>\n",
              "      <th>Song</th>\n",
              "      <th>tags</th>\n",
              "      <th>Performer</th>\n",
              "    </tr>\n",
              "  </thead>\n",
              "  <tbody>\n",
              "    <tr>\n",
              "      <th>2</th>\n",
              "      <td>And Roses And Roses</td>\n",
              "      <td>adultstandards brillbuildingpop easylistening...</td>\n",
              "      <td>AndyWilliams</td>\n",
              "    </tr>\n",
              "    <tr>\n",
              "      <th>4</th>\n",
              "      <td>Baby One More Time</td>\n",
              "      <td>dancepop pop post-teenpop britneyspears</td>\n",
              "      <td>BritneySpears</td>\n",
              "    </tr>\n",
              "    <tr>\n",
              "      <th>7</th>\n",
              "      <td>'65 Love Affair</td>\n",
              "      <td>albumrock bubblegumpop countryrock folkrock m...</td>\n",
              "      <td>PaulDavis</td>\n",
              "    </tr>\n",
              "    <tr>\n",
              "      <th>10</th>\n",
              "      <td>'til I Can Make It On My Own</td>\n",
              "      <td>country countrydawn nashvillesound tammywynette</td>\n",
              "      <td>TammyWynette</td>\n",
              "    </tr>\n",
              "    <tr>\n",
              "      <th>12</th>\n",
              "      <td>'Til My Baby Comes Home</td>\n",
              "      <td>funk motown neosoul newjackswing quietstorm r...</td>\n",
              "      <td>LutherVandross</td>\n",
              "    </tr>\n",
              "    <tr>\n",
              "      <th>...</th>\n",
              "      <td>...</td>\n",
              "      <td>...</td>\n",
              "      <td>...</td>\n",
              "    </tr>\n",
              "    <tr>\n",
              "      <th>29495</th>\n",
              "      <td>Zip Code</td>\n",
              "      <td>bubblegumpop classicgaragerock freakbeat thef...</td>\n",
              "      <td>TheFiveAmericans</td>\n",
              "    </tr>\n",
              "    <tr>\n",
              "      <th>29497</th>\n",
              "      <td>Zombie</td>\n",
              "      <td>alternativemetal metal post-grunge badwolves</td>\n",
              "      <td>BadWolves</td>\n",
              "    </tr>\n",
              "    <tr>\n",
              "      <th>29499</th>\n",
              "      <td>Zoom</td>\n",
              "      <td>atlhiphop hiphop poprap rap southernhiphop tr...</td>\n",
              "      <td>Future</td>\n",
              "    </tr>\n",
              "    <tr>\n",
              "      <th>29501</th>\n",
              "      <td>Zorba The Greek</td>\n",
              "      <td>adultstandards easylistening lounge herbalper...</td>\n",
              "      <td>HerbAlpert&amp;TheTijuanaBrass</td>\n",
              "    </tr>\n",
              "    <tr>\n",
              "      <th>29502</th>\n",
              "      <td>Zunga Zeng</td>\n",
              "      <td>freestyle k7</td>\n",
              "      <td>K7</td>\n",
              "    </tr>\n",
              "  </tbody>\n",
              "</table>\n",
              "<p>14365 rows × 3 columns</p>\n",
              "</div>"
            ],
            "text/plain": [
              "                               Song  \\\n",
              "2               And Roses And Roses   \n",
              "4                Baby One More Time   \n",
              "7                   '65 Love Affair   \n",
              "10     'til I Can Make It On My Own   \n",
              "12          'Til My Baby Comes Home   \n",
              "...                             ...   \n",
              "29495                      Zip Code   \n",
              "29497                        Zombie   \n",
              "29499                          Zoom   \n",
              "29501               Zorba The Greek   \n",
              "29502                    Zunga Zeng   \n",
              "\n",
              "                                                    tags  \\\n",
              "2       adultstandards brillbuildingpop easylistening...   \n",
              "4                dancepop pop post-teenpop britneyspears   \n",
              "7       albumrock bubblegumpop countryrock folkrock m...   \n",
              "10       country countrydawn nashvillesound tammywynette   \n",
              "12      funk motown neosoul newjackswing quietstorm r...   \n",
              "...                                                  ...   \n",
              "29495   bubblegumpop classicgaragerock freakbeat thef...   \n",
              "29497       alternativemetal metal post-grunge badwolves   \n",
              "29499   atlhiphop hiphop poprap rap southernhiphop tr...   \n",
              "29501   adultstandards easylistening lounge herbalper...   \n",
              "29502                                       freestyle k7   \n",
              "\n",
              "                        Performer  \n",
              "2                    AndyWilliams  \n",
              "4                   BritneySpears  \n",
              "7                       PaulDavis  \n",
              "10                   TammyWynette  \n",
              "12                 LutherVandross  \n",
              "...                           ...  \n",
              "29495            TheFiveAmericans  \n",
              "29497                   BadWolves  \n",
              "29499                      Future  \n",
              "29501  HerbAlpert&TheTijuanaBrass  \n",
              "29502                          K7  \n",
              "\n",
              "[14365 rows x 3 columns]"
            ]
          },
          "execution_count": 31,
          "metadata": {},
          "output_type": "execute_result"
        }
      ],
      "source": [
        "new_df"
      ]
    },
    {
      "cell_type": "code",
      "execution_count": null,
      "metadata": {},
      "outputs": [],
      "source": []
    }
  ],
  "metadata": {
    "colab": {
      "provenance": []
    },
    "kernelspec": {
      "display_name": "Python 3",
      "name": "python3"
    },
    "language_info": {
      "codemirror_mode": {
        "name": "ipython",
        "version": 3
      },
      "file_extension": ".py",
      "mimetype": "text/x-python",
      "name": "python",
      "nbconvert_exporter": "python",
      "pygments_lexer": "ipython3",
      "version": "3.12.3"
    }
  },
  "nbformat": 4,
  "nbformat_minor": 0
}
